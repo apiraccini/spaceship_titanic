{
 "cells": [
  {
   "cell_type": "markdown",
   "metadata": {},
   "source": [
    "# Gradient boosting"
   ]
  },
  {
   "cell_type": "markdown",
   "metadata": {},
   "source": [
    "## Setup"
   ]
  },
  {
   "cell_type": "code",
   "execution_count": 1,
   "metadata": {},
   "outputs": [
    {
     "name": "stdout",
     "output_type": "stream",
     "text": [
      "Windows-10-10.0.19045-SP0\n",
      "Python 3.10.5 (tags/v3.10.5:f377153, Jun  6 2022, 16:14:13) [MSC v.1929 64 bit (AMD64)]\n"
     ]
    }
   ],
   "source": [
    "import platform; print(platform.platform())\n",
    "import sys; print(\"Python\", sys.version)"
   ]
  },
  {
   "cell_type": "code",
   "execution_count": 2,
   "metadata": {},
   "outputs": [],
   "source": [
    "import os\n",
    "import numpy as np\n",
    "import pandas as pd\n",
    "\n",
    "from catboost import CatBoostClassifier, Pool\n",
    "\n",
    "from sklearn.model_selection import train_test_split"
   ]
  },
  {
   "cell_type": "code",
   "execution_count": 3,
   "metadata": {},
   "outputs": [],
   "source": [
    "# load data\n",
    "train = pd.read_csv('../data/final/train.csv')\n",
    "test = pd.read_csv('../data/final/test.csv')"
   ]
  },
  {
   "cell_type": "code",
   "execution_count": 4,
   "metadata": {},
   "outputs": [
    {
     "name": "stdout",
     "output_type": "stream",
     "text": [
      "Target: Transported\n",
      "Features:\n",
      "\tnumerical: ['Age', 'RoomService', 'FoodCourt', 'ShoppingMall', 'Spa', 'VRDeck', 'Expenditure', 'NoSpending', 'CabinNum', 'GroupSize', 'FamilySize']\n",
      "\tcategorical:['HomePlanet', 'CryoSleep', 'Destination', 'VIP', 'CabinDeck', 'CabinSide', 'Solo']\n",
      "Shapes:\n",
      "\ttrain: (8693, 19)\n",
      "\ttest: (4277, 18)\n"
     ]
    },
    {
     "data": {
      "text/html": [
       "<div>\n",
       "<style scoped>\n",
       "    .dataframe tbody tr th:only-of-type {\n",
       "        vertical-align: middle;\n",
       "    }\n",
       "\n",
       "    .dataframe tbody tr th {\n",
       "        vertical-align: top;\n",
       "    }\n",
       "\n",
       "    .dataframe thead th {\n",
       "        text-align: right;\n",
       "    }\n",
       "</style>\n",
       "<table border=\"1\" class=\"dataframe\">\n",
       "  <thead>\n",
       "    <tr style=\"text-align: right;\">\n",
       "      <th></th>\n",
       "      <th>HomePlanet</th>\n",
       "      <th>CryoSleep</th>\n",
       "      <th>Destination</th>\n",
       "      <th>Age</th>\n",
       "      <th>VIP</th>\n",
       "      <th>RoomService</th>\n",
       "      <th>FoodCourt</th>\n",
       "      <th>ShoppingMall</th>\n",
       "      <th>Spa</th>\n",
       "      <th>VRDeck</th>\n",
       "      <th>Expenditure</th>\n",
       "      <th>NoSpending</th>\n",
       "      <th>CabinDeck</th>\n",
       "      <th>CabinNum</th>\n",
       "      <th>CabinSide</th>\n",
       "      <th>GroupSize</th>\n",
       "      <th>Solo</th>\n",
       "      <th>FamilySize</th>\n",
       "      <th>Transported</th>\n",
       "    </tr>\n",
       "  </thead>\n",
       "  <tbody>\n",
       "    <tr>\n",
       "      <th>3332</th>\n",
       "      <td>Earth</td>\n",
       "      <td>False</td>\n",
       "      <td>PSO J318.5-22</td>\n",
       "      <td>20.0</td>\n",
       "      <td>False</td>\n",
       "      <td>0.0</td>\n",
       "      <td>0.0</td>\n",
       "      <td>1.0</td>\n",
       "      <td>0.0</td>\n",
       "      <td>2260.0</td>\n",
       "      <td>4522.0</td>\n",
       "      <td>0.0</td>\n",
       "      <td>F</td>\n",
       "      <td>675.0</td>\n",
       "      <td>S</td>\n",
       "      <td>1.0</td>\n",
       "      <td>True</td>\n",
       "      <td>14.0</td>\n",
       "      <td>0.0</td>\n",
       "    </tr>\n",
       "    <tr>\n",
       "      <th>7284</th>\n",
       "      <td>Earth</td>\n",
       "      <td>False</td>\n",
       "      <td>PSO J318.5-22</td>\n",
       "      <td>43.0</td>\n",
       "      <td>False</td>\n",
       "      <td>0.0</td>\n",
       "      <td>0.0</td>\n",
       "      <td>110.0</td>\n",
       "      <td>538.0</td>\n",
       "      <td>0.0</td>\n",
       "      <td>1296.0</td>\n",
       "      <td>0.0</td>\n",
       "      <td>F</td>\n",
       "      <td>1488.0</td>\n",
       "      <td>S</td>\n",
       "      <td>1.0</td>\n",
       "      <td>True</td>\n",
       "      <td>15.0</td>\n",
       "      <td>0.0</td>\n",
       "    </tr>\n",
       "    <tr>\n",
       "      <th>4814</th>\n",
       "      <td>Earth</td>\n",
       "      <td>False</td>\n",
       "      <td>TRAPPIST-1e</td>\n",
       "      <td>26.0</td>\n",
       "      <td>False</td>\n",
       "      <td>1528.0</td>\n",
       "      <td>1.0</td>\n",
       "      <td>0.0</td>\n",
       "      <td>0.0</td>\n",
       "      <td>0.0</td>\n",
       "      <td>3058.0</td>\n",
       "      <td>0.0</td>\n",
       "      <td>F</td>\n",
       "      <td>1046.0</td>\n",
       "      <td>P</td>\n",
       "      <td>8.0</td>\n",
       "      <td>False</td>\n",
       "      <td>17.0</td>\n",
       "      <td>0.0</td>\n",
       "    </tr>\n",
       "    <tr>\n",
       "      <th>2218</th>\n",
       "      <td>Europa</td>\n",
       "      <td>True</td>\n",
       "      <td>PSO J318.5-22</td>\n",
       "      <td>32.0</td>\n",
       "      <td>False</td>\n",
       "      <td>0.0</td>\n",
       "      <td>0.0</td>\n",
       "      <td>0.0</td>\n",
       "      <td>0.0</td>\n",
       "      <td>0.0</td>\n",
       "      <td>0.0</td>\n",
       "      <td>1.0</td>\n",
       "      <td>C</td>\n",
       "      <td>83.0</td>\n",
       "      <td>P</td>\n",
       "      <td>1.0</td>\n",
       "      <td>True</td>\n",
       "      <td>2.0</td>\n",
       "      <td>1.0</td>\n",
       "    </tr>\n",
       "    <tr>\n",
       "      <th>5461</th>\n",
       "      <td>Earth</td>\n",
       "      <td>True</td>\n",
       "      <td>TRAPPIST-1e</td>\n",
       "      <td>12.0</td>\n",
       "      <td>False</td>\n",
       "      <td>0.0</td>\n",
       "      <td>0.0</td>\n",
       "      <td>0.0</td>\n",
       "      <td>0.0</td>\n",
       "      <td>0.0</td>\n",
       "      <td>0.0</td>\n",
       "      <td>1.0</td>\n",
       "      <td>G</td>\n",
       "      <td>939.0</td>\n",
       "      <td>P</td>\n",
       "      <td>1.0</td>\n",
       "      <td>True</td>\n",
       "      <td>5.0</td>\n",
       "      <td>1.0</td>\n",
       "    </tr>\n",
       "  </tbody>\n",
       "</table>\n",
       "</div>"
      ],
      "text/plain": [
       "     HomePlanet CryoSleep    Destination   Age    VIP  RoomService  FoodCourt  \\\n",
       "3332      Earth     False  PSO J318.5-22  20.0  False          0.0        0.0   \n",
       "7284      Earth     False  PSO J318.5-22  43.0  False          0.0        0.0   \n",
       "4814      Earth     False    TRAPPIST-1e  26.0  False       1528.0        1.0   \n",
       "2218     Europa      True  PSO J318.5-22  32.0  False          0.0        0.0   \n",
       "5461      Earth      True    TRAPPIST-1e  12.0  False          0.0        0.0   \n",
       "\n",
       "      ShoppingMall    Spa  VRDeck  Expenditure  NoSpending CabinDeck  \\\n",
       "3332           1.0    0.0  2260.0       4522.0         0.0         F   \n",
       "7284         110.0  538.0     0.0       1296.0         0.0         F   \n",
       "4814           0.0    0.0     0.0       3058.0         0.0         F   \n",
       "2218           0.0    0.0     0.0          0.0         1.0         C   \n",
       "5461           0.0    0.0     0.0          0.0         1.0         G   \n",
       "\n",
       "      CabinNum CabinSide  GroupSize   Solo  FamilySize  Transported  \n",
       "3332     675.0         S        1.0   True        14.0          0.0  \n",
       "7284    1488.0         S        1.0   True        15.0          0.0  \n",
       "4814    1046.0         P        8.0  False        17.0          0.0  \n",
       "2218      83.0         P        1.0   True         2.0          1.0  \n",
       "5461     939.0         P        1.0   True         5.0          1.0  "
      ]
     },
     "execution_count": 4,
     "metadata": {},
     "output_type": "execute_result"
    }
   ],
   "source": [
    "TARGET = 'Transported'\n",
    "FEATURES = [col for col in train.columns if col not in [TARGET]]\n",
    "\n",
    "numerical = train[FEATURES].select_dtypes(include=np.number).columns.to_list()\n",
    "categorical = train[FEATURES].select_dtypes(exclude=np.number).columns.to_list()\n",
    "\n",
    "train[numerical] = train[numerical].astype(float)\n",
    "train[categorical] = train[categorical].astype(str)\n",
    "train[TARGET] = train[TARGET].astype(float)\n",
    "\n",
    "test[numerical] = test[numerical].astype(float)\n",
    "test[categorical] = test[categorical].astype(str)\n",
    "\n",
    "print(f'Target: {TARGET}')\n",
    "print(f'Features:\\n\\tnumerical: {numerical}\\n\\tcategorical:{categorical}')\n",
    "print(f'Shapes:\\n\\ttrain: {train.shape}\\n\\ttest: {test.shape}')\n",
    "\n",
    "train.sample(5)"
   ]
  },
  {
   "cell_type": "markdown",
   "metadata": {},
   "source": [
    "## Models"
   ]
  },
  {
   "cell_type": "code",
   "execution_count": 5,
   "metadata": {},
   "outputs": [],
   "source": [
    "# data splitting\n",
    "x, x_val, y, y_val = train_test_split(\n",
    "    train[FEATURES],\n",
    "    train[TARGET],\n",
    "    test_size = 0.2,\n",
    "    random_state = 42\n",
    ")\n",
    "\n",
    "# pool preparation\n",
    "pool_train = Pool(x, y, cat_features=categorical)\n",
    "pool_val = Pool(x_val, y_val, cat_features=categorical)"
   ]
  },
  {
   "cell_type": "code",
   "execution_count": 6,
   "metadata": {},
   "outputs": [
    {
     "name": "stdout",
     "output_type": "stream",
     "text": [
      "0:\tlearn: 0.6782815\ttest: 0.6783597\tbest: 0.6783597 (0)\ttotal: 168ms\tremaining: 4m 11s\n",
      "250:\tlearn: 0.3645196\ttest: 0.3980172\tbest: 0.3980172 (250)\ttotal: 6.44s\tremaining: 32.1s\n",
      "500:\tlearn: 0.3231009\ttest: 0.3833277\tbest: 0.3833277 (500)\ttotal: 12.9s\tremaining: 25.8s\n",
      "750:\tlearn: 0.2942071\ttest: 0.3813303\tbest: 0.3812536 (651)\ttotal: 19.4s\tremaining: 19.4s\n",
      "1000:\tlearn: 0.2710857\ttest: 0.3819111\tbest: 0.3804874 (802)\ttotal: 26.2s\tremaining: 13.1s\n",
      "1250:\tlearn: 0.2509277\ttest: 0.3822678\tbest: 0.3804874 (802)\ttotal: 34.4s\tremaining: 6.86s\n",
      "1499:\tlearn: 0.2329131\ttest: 0.3840601\tbest: 0.3804874 (802)\ttotal: 43.5s\tremaining: 0us\n",
      "\n",
      "bestTest = 0.3804874363\n",
      "bestIteration = 802\n",
      "\n",
      "Shrink model to first 803 iterations.\n"
     ]
    }
   ],
   "source": [
    "# default \n",
    "model = CatBoostClassifier(\n",
    "    iterations = 1500,\n",
    "    learning_rate=0.03,\n",
    "    custom_metric = ['Accuracy', 'AUC', 'F1'],\n",
    "    allow_writing_files=False\n",
    ")\n",
    "\n",
    "_ = model.fit(\n",
    "    pool_train,\n",
    "    eval_set = pool_val,\n",
    "    verbose = 250\n",
    ")"
   ]
  },
  {
   "cell_type": "code",
   "execution_count": 7,
   "metadata": {},
   "outputs": [
    {
     "name": "stdout",
     "output_type": "stream",
     "text": [
      "Accuracy on evaluation set 80.10%\n"
     ]
    }
   ],
   "source": [
    "# evalutation accuracy\n",
    "acc = np.mean(y_val == model.predict(pool_val))\n",
    "print(f'Accuracy on evaluation set {acc:.2%}')"
   ]
  },
  {
   "cell_type": "code",
   "execution_count": 8,
   "metadata": {},
   "outputs": [],
   "source": [
    "# prediction\n",
    "pool_test = Pool(test[FEATURES], cat_features=categorical)\n",
    "preds = model.predict(pool_test)"
   ]
  },
  {
   "cell_type": "markdown",
   "metadata": {},
   "source": [
    "## Submission"
   ]
  },
  {
   "cell_type": "code",
   "execution_count": 9,
   "metadata": {},
   "outputs": [
    {
     "data": {
      "text/html": [
       "<div>\n",
       "<style scoped>\n",
       "    .dataframe tbody tr th:only-of-type {\n",
       "        vertical-align: middle;\n",
       "    }\n",
       "\n",
       "    .dataframe tbody tr th {\n",
       "        vertical-align: top;\n",
       "    }\n",
       "\n",
       "    .dataframe thead th {\n",
       "        text-align: right;\n",
       "    }\n",
       "</style>\n",
       "<table border=\"1\" class=\"dataframe\">\n",
       "  <thead>\n",
       "    <tr style=\"text-align: right;\">\n",
       "      <th></th>\n",
       "      <th>PassengerId</th>\n",
       "      <th>Transported</th>\n",
       "    </tr>\n",
       "  </thead>\n",
       "  <tbody>\n",
       "    <tr>\n",
       "      <th>0</th>\n",
       "      <td>0013_01</td>\n",
       "      <td>True</td>\n",
       "    </tr>\n",
       "    <tr>\n",
       "      <th>1</th>\n",
       "      <td>0018_01</td>\n",
       "      <td>False</td>\n",
       "    </tr>\n",
       "    <tr>\n",
       "      <th>2</th>\n",
       "      <td>0019_01</td>\n",
       "      <td>True</td>\n",
       "    </tr>\n",
       "    <tr>\n",
       "      <th>3</th>\n",
       "      <td>0021_01</td>\n",
       "      <td>True</td>\n",
       "    </tr>\n",
       "    <tr>\n",
       "      <th>4</th>\n",
       "      <td>0023_01</td>\n",
       "      <td>False</td>\n",
       "    </tr>\n",
       "    <tr>\n",
       "      <th>...</th>\n",
       "      <td>...</td>\n",
       "      <td>...</td>\n",
       "    </tr>\n",
       "    <tr>\n",
       "      <th>4272</th>\n",
       "      <td>9266_02</td>\n",
       "      <td>True</td>\n",
       "    </tr>\n",
       "    <tr>\n",
       "      <th>4273</th>\n",
       "      <td>9269_01</td>\n",
       "      <td>False</td>\n",
       "    </tr>\n",
       "    <tr>\n",
       "      <th>4274</th>\n",
       "      <td>9271_01</td>\n",
       "      <td>True</td>\n",
       "    </tr>\n",
       "    <tr>\n",
       "      <th>4275</th>\n",
       "      <td>9273_01</td>\n",
       "      <td>True</td>\n",
       "    </tr>\n",
       "    <tr>\n",
       "      <th>4276</th>\n",
       "      <td>9277_01</td>\n",
       "      <td>True</td>\n",
       "    </tr>\n",
       "  </tbody>\n",
       "</table>\n",
       "<p>4277 rows × 2 columns</p>\n",
       "</div>"
      ],
      "text/plain": [
       "     PassengerId  Transported\n",
       "0        0013_01         True\n",
       "1        0018_01        False\n",
       "2        0019_01         True\n",
       "3        0021_01         True\n",
       "4        0023_01        False\n",
       "...          ...          ...\n",
       "4272     9266_02         True\n",
       "4273     9269_01        False\n",
       "4274     9271_01         True\n",
       "4275     9273_01         True\n",
       "4276     9277_01         True\n",
       "\n",
       "[4277 rows x 2 columns]"
      ]
     },
     "execution_count": 9,
     "metadata": {},
     "output_type": "execute_result"
    }
   ],
   "source": [
    "sub = pd.read_csv('../data/raw/sample_submission.csv')\n",
    "sub[TARGET] = preds.astype(bool)\n",
    "sub"
   ]
  },
  {
   "cell_type": "code",
   "execution_count": 10,
   "metadata": {},
   "outputs": [],
   "source": [
    "os.makedirs('../submissions', exist_ok=True)\n",
    "sub.to_csv('../submissions/catboost_default.csv', index=False)"
   ]
  }
 ],
 "metadata": {
  "kernelspec": {
   "display_name": "Python 3.10.5 ('venv': venv)",
   "language": "python",
   "name": "python3"
  },
  "language_info": {
   "codemirror_mode": {
    "name": "ipython",
    "version": 3
   },
   "file_extension": ".py",
   "mimetype": "text/x-python",
   "name": "python",
   "nbconvert_exporter": "python",
   "pygments_lexer": "ipython3",
   "version": "3.10.5"
  },
  "orig_nbformat": 4,
  "vscode": {
   "interpreter": {
    "hash": "4135bef97ee23db469bebff183640717e228397514be0146cbde53ce1804882c"
   }
  }
 },
 "nbformat": 4,
 "nbformat_minor": 2
}
