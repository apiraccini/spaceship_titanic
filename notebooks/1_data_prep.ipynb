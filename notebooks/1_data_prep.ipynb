{
 "cells": [
  {
   "cell_type": "markdown",
   "metadata": {},
   "source": [
    "# Data preparation"
   ]
  },
  {
   "cell_type": "markdown",
   "metadata": {},
   "source": [
    "## Setup"
   ]
  },
  {
   "cell_type": "code",
   "execution_count": 1,
   "metadata": {},
   "outputs": [
    {
     "name": "stdout",
     "output_type": "stream",
     "text": [
      "Windows-10-10.0.19045-SP0\n",
      "Python 3.10.5 (tags/v3.10.5:f377153, Jun  6 2022, 16:14:13) [MSC v.1929 64 bit (AMD64)]\n"
     ]
    }
   ],
   "source": [
    "import platform; print(platform.platform())\n",
    "import sys; print(\"Python\", sys.version)"
   ]
  },
  {
   "cell_type": "code",
   "execution_count": 2,
   "metadata": {},
   "outputs": [],
   "source": [
    "import os\n",
    "import numpy as np\n",
    "import pandas as pd"
   ]
  },
  {
   "cell_type": "code",
   "execution_count": 3,
   "metadata": {},
   "outputs": [
    {
     "name": "stdout",
     "output_type": "stream",
     "text": [
      "Raw train dataset has 8693 observations of 14 variables.\n",
      "Raw test dataset has 4277 observations of 13 variables.\n"
     ]
    },
    {
     "data": {
      "text/html": [
       "<div>\n",
       "<style scoped>\n",
       "    .dataframe tbody tr th:only-of-type {\n",
       "        vertical-align: middle;\n",
       "    }\n",
       "\n",
       "    .dataframe tbody tr th {\n",
       "        vertical-align: top;\n",
       "    }\n",
       "\n",
       "    .dataframe thead th {\n",
       "        text-align: right;\n",
       "    }\n",
       "</style>\n",
       "<table border=\"1\" class=\"dataframe\">\n",
       "  <thead>\n",
       "    <tr style=\"text-align: right;\">\n",
       "      <th></th>\n",
       "      <th>PassengerId</th>\n",
       "      <th>HomePlanet</th>\n",
       "      <th>CryoSleep</th>\n",
       "      <th>Cabin</th>\n",
       "      <th>Destination</th>\n",
       "      <th>Age</th>\n",
       "      <th>VIP</th>\n",
       "      <th>RoomService</th>\n",
       "      <th>FoodCourt</th>\n",
       "      <th>ShoppingMall</th>\n",
       "      <th>Spa</th>\n",
       "      <th>VRDeck</th>\n",
       "      <th>Name</th>\n",
       "      <th>Transported</th>\n",
       "    </tr>\n",
       "  </thead>\n",
       "  <tbody>\n",
       "    <tr>\n",
       "      <th>853</th>\n",
       "      <td>0919_01</td>\n",
       "      <td>Earth</td>\n",
       "      <td>False</td>\n",
       "      <td>F/190/P</td>\n",
       "      <td>PSO J318.5-22</td>\n",
       "      <td>26.0</td>\n",
       "      <td>False</td>\n",
       "      <td>18.0</td>\n",
       "      <td>84.0</td>\n",
       "      <td>93.0</td>\n",
       "      <td>886.0</td>\n",
       "      <td>289.0</td>\n",
       "      <td>Hery Kimons</td>\n",
       "      <td>False</td>\n",
       "    </tr>\n",
       "    <tr>\n",
       "      <th>6819</th>\n",
       "      <td>7205_01</td>\n",
       "      <td>Mars</td>\n",
       "      <td>False</td>\n",
       "      <td>F/1386/S</td>\n",
       "      <td>TRAPPIST-1e</td>\n",
       "      <td>NaN</td>\n",
       "      <td>False</td>\n",
       "      <td>1030.0</td>\n",
       "      <td>0.0</td>\n",
       "      <td>158.0</td>\n",
       "      <td>0.0</td>\n",
       "      <td>28.0</td>\n",
       "      <td>Chees Flake</td>\n",
       "      <td>False</td>\n",
       "    </tr>\n",
       "    <tr>\n",
       "      <th>5095</th>\n",
       "      <td>5443_01</td>\n",
       "      <td>Earth</td>\n",
       "      <td>False</td>\n",
       "      <td>F/1124/P</td>\n",
       "      <td>55 Cancri e</td>\n",
       "      <td>13.0</td>\n",
       "      <td>False</td>\n",
       "      <td>4.0</td>\n",
       "      <td>99.0</td>\n",
       "      <td>1.0</td>\n",
       "      <td>0.0</td>\n",
       "      <td>595.0</td>\n",
       "      <td>Gabrie Hickley</td>\n",
       "      <td>False</td>\n",
       "    </tr>\n",
       "    <tr>\n",
       "      <th>8677</th>\n",
       "      <td>9264_01</td>\n",
       "      <td>Europa</td>\n",
       "      <td>True</td>\n",
       "      <td>E/606/S</td>\n",
       "      <td>55 Cancri e</td>\n",
       "      <td>30.0</td>\n",
       "      <td>False</td>\n",
       "      <td>0.0</td>\n",
       "      <td>0.0</td>\n",
       "      <td>0.0</td>\n",
       "      <td>0.0</td>\n",
       "      <td>0.0</td>\n",
       "      <td>Giedir Sionerorly</td>\n",
       "      <td>True</td>\n",
       "    </tr>\n",
       "    <tr>\n",
       "      <th>351</th>\n",
       "      <td>0384_02</td>\n",
       "      <td>Earth</td>\n",
       "      <td>False</td>\n",
       "      <td>G/56/S</td>\n",
       "      <td>TRAPPIST-1e</td>\n",
       "      <td>14.0</td>\n",
       "      <td>False</td>\n",
       "      <td>3.0</td>\n",
       "      <td>0.0</td>\n",
       "      <td>881.0</td>\n",
       "      <td>25.0</td>\n",
       "      <td>0.0</td>\n",
       "      <td>Ellard Simpsonks</td>\n",
       "      <td>True</td>\n",
       "    </tr>\n",
       "  </tbody>\n",
       "</table>\n",
       "</div>"
      ],
      "text/plain": [
       "     PassengerId HomePlanet CryoSleep     Cabin    Destination   Age    VIP  \\\n",
       "853      0919_01      Earth     False   F/190/P  PSO J318.5-22  26.0  False   \n",
       "6819     7205_01       Mars     False  F/1386/S    TRAPPIST-1e   NaN  False   \n",
       "5095     5443_01      Earth     False  F/1124/P    55 Cancri e  13.0  False   \n",
       "8677     9264_01     Europa      True   E/606/S    55 Cancri e  30.0  False   \n",
       "351      0384_02      Earth     False    G/56/S    TRAPPIST-1e  14.0  False   \n",
       "\n",
       "      RoomService  FoodCourt  ShoppingMall    Spa  VRDeck               Name  \\\n",
       "853          18.0       84.0          93.0  886.0   289.0        Hery Kimons   \n",
       "6819       1030.0        0.0         158.0    0.0    28.0        Chees Flake   \n",
       "5095          4.0       99.0           1.0    0.0   595.0     Gabrie Hickley   \n",
       "8677          0.0        0.0           0.0    0.0     0.0  Giedir Sionerorly   \n",
       "351           3.0        0.0         881.0   25.0     0.0   Ellard Simpsonks   \n",
       "\n",
       "      Transported  \n",
       "853         False  \n",
       "6819        False  \n",
       "5095        False  \n",
       "8677         True  \n",
       "351          True  "
      ]
     },
     "execution_count": 3,
     "metadata": {},
     "output_type": "execute_result"
    }
   ],
   "source": [
    "train_raw = pd.read_csv('../data/raw/train.csv')\n",
    "test_raw = pd.read_csv('../data/raw/test.csv')\n",
    "\n",
    "print(f'Raw train dataset has {train_raw.shape[0]} observations of {train_raw.shape[1]} variables.')\n",
    "print(f'Raw test dataset has {test_raw.shape[0]} observations of {test_raw.shape[1]} variables.')\n",
    "\n",
    "train_raw.sample(5)"
   ]
  },
  {
   "cell_type": "markdown",
   "metadata": {},
   "source": [
    "Variables:\n",
    "\n",
    "* PassengerId - A unique Id for each passenger. Each Id takes the form gggg_pp where gggg indicates a group the passenger is travelling with and pp is their number within the group. People in a group are often family members, but not always.\n",
    "* HomePlanet - The planet the passenger departed from, typically their planet of permanent residence.\n",
    "* CryoSleep - Indicates whether the passenger elected to be put into suspended animation for the duration of the voyage. Passengers in cryosleep are confined to their cabins.\n",
    "* Cabin - The cabin number where the passenger is staying. Takes the form deck/num/side, where side can be either P for Port or S for Starboard.\n",
    "* Destination - The planet the passenger will be debarking to.\n",
    "* Age - The age of the passenger.\n",
    "* VIP - Whether the passenger has paid for special VIP service during the voyage.\n",
    "* RoomService, FoodCourt, ShoppingMall, Spa, VRDeck - Amount the passenger has billed at each of the Spaceship Titanic's many luxury amenities.\n",
    "* Name - The first and last names of the passenger.\n",
    "* Transported - Whether the passenger was transported to another dimension. This is the target, the column you are trying to predict."
   ]
  },
  {
   "cell_type": "markdown",
   "metadata": {},
   "source": [
    "## Quick exploration"
   ]
  },
  {
   "cell_type": "code",
   "execution_count": 4,
   "metadata": {},
   "outputs": [
    {
     "name": "stdout",
     "output_type": "stream",
     "text": [
      "<class 'pandas.core.frame.DataFrame'>\n",
      "RangeIndex: 8693 entries, 0 to 8692\n",
      "Data columns (total 14 columns):\n",
      " #   Column        Non-Null Count  Dtype  \n",
      "---  ------        --------------  -----  \n",
      " 0   PassengerId   8693 non-null   object \n",
      " 1   HomePlanet    8492 non-null   object \n",
      " 2   CryoSleep     8476 non-null   object \n",
      " 3   Cabin         8494 non-null   object \n",
      " 4   Destination   8511 non-null   object \n",
      " 5   Age           8514 non-null   float64\n",
      " 6   VIP           8490 non-null   object \n",
      " 7   RoomService   8512 non-null   float64\n",
      " 8   FoodCourt     8510 non-null   float64\n",
      " 9   ShoppingMall  8485 non-null   float64\n",
      " 10  Spa           8510 non-null   float64\n",
      " 11  VRDeck        8505 non-null   float64\n",
      " 12  Name          8493 non-null   object \n",
      " 13  Transported   8693 non-null   bool   \n",
      "dtypes: bool(1), float64(6), object(7)\n",
      "memory usage: 891.5+ KB\n"
     ]
    }
   ],
   "source": [
    "train_raw.info()"
   ]
  },
  {
   "cell_type": "code",
   "execution_count": 5,
   "metadata": {},
   "outputs": [
    {
     "name": "stdout",
     "output_type": "stream",
     "text": [
      "Target: Transported\n",
      "Fetaures:\n",
      "\tnumerical: ['Age', 'RoomService', 'FoodCourt', 'ShoppingMall', 'Spa', 'VRDeck']\n",
      "\tcategorical:['PassengerId', 'HomePlanet', 'CryoSleep', 'Cabin', 'Destination', 'VIP']\n",
      "Shapes:\n",
      "\ttrain: (8693, 14)\n",
      "\ttest: (4277, 13)\n"
     ]
    }
   ],
   "source": [
    "TARGET = 'Transported'\n",
    "FEATURES = [col for col in train_raw.columns if col not in ['Name', TARGET]]\n",
    "\n",
    "numerical = train_raw[FEATURES].select_dtypes(include=np.number).columns\n",
    "categorical = train_raw[FEATURES].select_dtypes(exclude=np.number).columns\n",
    "\n",
    "print(f'Target: {TARGET}')\n",
    "print(f'Fetaures:\\n\\tnumerical: {numerical.to_list()}\\n\\tcategorical:{categorical.to_list()}')\n",
    "print(f'Shapes:\\n\\ttrain: {train_raw.shape}\\n\\ttest: {test_raw.shape}')"
   ]
  },
  {
   "cell_type": "code",
   "execution_count": 6,
   "metadata": {},
   "outputs": [
    {
     "data": {
      "text/plain": [
       "(0, 0)"
      ]
     },
     "execution_count": 6,
     "metadata": {},
     "output_type": "execute_result"
    }
   ],
   "source": [
    "train_raw.duplicated().sum(), test_raw.duplicated().sum()"
   ]
  },
  {
   "cell_type": "code",
   "execution_count": 7,
   "metadata": {},
   "outputs": [
    {
     "data": {
      "text/plain": [
       "CryoSleep       217\n",
       "ShoppingMall    208\n",
       "VIP             203\n",
       "HomePlanet      201\n",
       "Name            200\n",
       "Cabin           199\n",
       "VRDeck          188\n",
       "FoodCourt       183\n",
       "Spa             183\n",
       "Destination     182\n",
       "RoomService     181\n",
       "Age             179\n",
       "PassengerId       0\n",
       "Transported       0\n",
       "dtype: int64"
      ]
     },
     "execution_count": 7,
     "metadata": {},
     "output_type": "execute_result"
    }
   ],
   "source": [
    "train_raw.isna().sum().sort_values(ascending=False)"
   ]
  },
  {
   "cell_type": "markdown",
   "metadata": {},
   "source": [
    "## Feature engineering"
   ]
  },
  {
   "cell_type": "code",
   "execution_count": 8,
   "metadata": {},
   "outputs": [
    {
     "data": {
      "text/html": [
       "<div>\n",
       "<style scoped>\n",
       "    .dataframe tbody tr th:only-of-type {\n",
       "        vertical-align: middle;\n",
       "    }\n",
       "\n",
       "    .dataframe tbody tr th {\n",
       "        vertical-align: top;\n",
       "    }\n",
       "\n",
       "    .dataframe thead th {\n",
       "        text-align: right;\n",
       "    }\n",
       "</style>\n",
       "<table border=\"1\" class=\"dataframe\">\n",
       "  <thead>\n",
       "    <tr style=\"text-align: right;\">\n",
       "      <th></th>\n",
       "      <th>HomePlanet</th>\n",
       "      <th>CryoSleep</th>\n",
       "      <th>Destination</th>\n",
       "      <th>Age</th>\n",
       "      <th>VIP</th>\n",
       "      <th>RoomService</th>\n",
       "      <th>FoodCourt</th>\n",
       "      <th>ShoppingMall</th>\n",
       "      <th>Spa</th>\n",
       "      <th>VRDeck</th>\n",
       "      <th>Transported</th>\n",
       "      <th>Group_count</th>\n",
       "      <th>Cabin_deck</th>\n",
       "      <th>Cabin_side</th>\n",
       "    </tr>\n",
       "  </thead>\n",
       "  <tbody>\n",
       "    <tr>\n",
       "      <th>0</th>\n",
       "      <td>Europa</td>\n",
       "      <td>False</td>\n",
       "      <td>TRAPPIST-1e</td>\n",
       "      <td>39.0</td>\n",
       "      <td>False</td>\n",
       "      <td>0.0</td>\n",
       "      <td>0.0</td>\n",
       "      <td>0.0</td>\n",
       "      <td>0.0</td>\n",
       "      <td>0.0</td>\n",
       "      <td>False</td>\n",
       "      <td>1</td>\n",
       "      <td>B</td>\n",
       "      <td>P</td>\n",
       "    </tr>\n",
       "    <tr>\n",
       "      <th>1</th>\n",
       "      <td>Earth</td>\n",
       "      <td>False</td>\n",
       "      <td>TRAPPIST-1e</td>\n",
       "      <td>24.0</td>\n",
       "      <td>False</td>\n",
       "      <td>109.0</td>\n",
       "      <td>9.0</td>\n",
       "      <td>25.0</td>\n",
       "      <td>549.0</td>\n",
       "      <td>44.0</td>\n",
       "      <td>True</td>\n",
       "      <td>1</td>\n",
       "      <td>F</td>\n",
       "      <td>S</td>\n",
       "    </tr>\n",
       "    <tr>\n",
       "      <th>2</th>\n",
       "      <td>Europa</td>\n",
       "      <td>False</td>\n",
       "      <td>TRAPPIST-1e</td>\n",
       "      <td>58.0</td>\n",
       "      <td>True</td>\n",
       "      <td>43.0</td>\n",
       "      <td>3576.0</td>\n",
       "      <td>0.0</td>\n",
       "      <td>6715.0</td>\n",
       "      <td>49.0</td>\n",
       "      <td>False</td>\n",
       "      <td>2</td>\n",
       "      <td>A</td>\n",
       "      <td>S</td>\n",
       "    </tr>\n",
       "    <tr>\n",
       "      <th>3</th>\n",
       "      <td>Europa</td>\n",
       "      <td>False</td>\n",
       "      <td>TRAPPIST-1e</td>\n",
       "      <td>33.0</td>\n",
       "      <td>False</td>\n",
       "      <td>0.0</td>\n",
       "      <td>1283.0</td>\n",
       "      <td>371.0</td>\n",
       "      <td>3329.0</td>\n",
       "      <td>193.0</td>\n",
       "      <td>False</td>\n",
       "      <td>2</td>\n",
       "      <td>A</td>\n",
       "      <td>S</td>\n",
       "    </tr>\n",
       "    <tr>\n",
       "      <th>4</th>\n",
       "      <td>Earth</td>\n",
       "      <td>False</td>\n",
       "      <td>TRAPPIST-1e</td>\n",
       "      <td>16.0</td>\n",
       "      <td>False</td>\n",
       "      <td>303.0</td>\n",
       "      <td>70.0</td>\n",
       "      <td>151.0</td>\n",
       "      <td>565.0</td>\n",
       "      <td>2.0</td>\n",
       "      <td>True</td>\n",
       "      <td>1</td>\n",
       "      <td>F</td>\n",
       "      <td>S</td>\n",
       "    </tr>\n",
       "  </tbody>\n",
       "</table>\n",
       "</div>"
      ],
      "text/plain": [
       "  HomePlanet CryoSleep  Destination   Age    VIP  RoomService  FoodCourt  \\\n",
       "0     Europa     False  TRAPPIST-1e  39.0  False          0.0        0.0   \n",
       "1      Earth     False  TRAPPIST-1e  24.0  False        109.0        9.0   \n",
       "2     Europa     False  TRAPPIST-1e  58.0   True         43.0     3576.0   \n",
       "3     Europa     False  TRAPPIST-1e  33.0  False          0.0     1283.0   \n",
       "4      Earth     False  TRAPPIST-1e  16.0  False        303.0       70.0   \n",
       "\n",
       "   ShoppingMall     Spa  VRDeck  Transported  Group_count Cabin_deck  \\\n",
       "0           0.0     0.0     0.0        False            1          B   \n",
       "1          25.0   549.0    44.0         True            1          F   \n",
       "2           0.0  6715.0    49.0        False            2          A   \n",
       "3         371.0  3329.0   193.0        False            2          A   \n",
       "4         151.0   565.0     2.0         True            1          F   \n",
       "\n",
       "  Cabin_side  \n",
       "0          P  \n",
       "1          S  \n",
       "2          S  \n",
       "3          S  \n",
       "4          S  "
      ]
     },
     "execution_count": 8,
     "metadata": {},
     "output_type": "execute_result"
    }
   ],
   "source": [
    "def preprocess(d):\n",
    "\n",
    "    # fill na for categorical variables\n",
    "    d[categorical].fillna('missing')\n",
    "    \n",
    "    # feature engineering\n",
    "    # get group count from PassengerId\n",
    "    d[['group', 'Group_count']] = d['PassengerId'].str.split('_', expand=True)\n",
    "    d['Group_count'] = d['Group_count'].astype('int')\n",
    "    groupnum = d[['group', 'Group_count']].groupby('group').count()\n",
    "\n",
    "    d.drop(columns=['Group_count'], inplace=True)\n",
    "    d = d.join(groupnum, on='group')\n",
    "\n",
    "    # split cabin information\n",
    "    d[['Cabin_deck', 'Cabin_num', 'Cabin_side']] = d['Cabin'].str.split('/', expand=True)\n",
    "\n",
    "    # drop variables\n",
    "    drop = ['PassengerId', 'Cabin', 'Name', 'Cabin_num', 'group']\n",
    "    d.drop(columns=drop, inplace=True)\n",
    "\n",
    "    return d\n",
    "\n",
    "# apply feature engineering\n",
    "train = preprocess(train_raw)\n",
    "test = preprocess(test_raw)\n",
    "\n",
    "# save preprocessed data\n",
    "os.makedirs('../data/final', exist_ok=True)\n",
    "train.to_csv('../data/final/train.csv', index=False)\n",
    "test.to_csv('../data/final/test.csv', index=False)\n",
    "\n",
    "train.head()"
   ]
  },
  {
   "cell_type": "code",
   "execution_count": 9,
   "metadata": {},
   "outputs": [
    {
     "name": "stdout",
     "output_type": "stream",
     "text": [
      "Target: Transported\n",
      "Fetaures:\n",
      "\tnumerical: ['Age', 'RoomService', 'FoodCourt', 'ShoppingMall', 'Spa', 'VRDeck', 'Group_count']\n",
      "\tcategorical:['HomePlanet', 'CryoSleep', 'Destination', 'VIP', 'Cabin_deck', 'Cabin_side']\n",
      "Shapes:\n",
      "\ttrain: (8693, 14)\n",
      "\ttest: (4277, 13)\n"
     ]
    }
   ],
   "source": [
    "TARGET = 'Transported'\n",
    "FEATURES = [col for col in train.columns if col not in [TARGET]]\n",
    "\n",
    "numerical = train[FEATURES].select_dtypes(include=np.number).columns\n",
    "categorical = train[FEATURES].select_dtypes(exclude=np.number).columns\n",
    "\n",
    "print(f'Target: {TARGET}')\n",
    "print(f'Fetaures:\\n\\tnumerical: {numerical.to_list()}\\n\\tcategorical:{categorical.to_list()}')\n",
    "print(f'Shapes:\\n\\ttrain: {train.shape}\\n\\ttest: {test.shape}')"
   ]
  }
 ],
 "metadata": {
  "kernelspec": {
   "display_name": "Python 3.10.5 ('env': venv)",
   "language": "python",
   "name": "python3"
  },
  "language_info": {
   "codemirror_mode": {
    "name": "ipython",
    "version": 3
   },
   "file_extension": ".py",
   "mimetype": "text/x-python",
   "name": "python",
   "nbconvert_exporter": "python",
   "pygments_lexer": "ipython3",
   "version": "3.10.5"
  },
  "orig_nbformat": 4,
  "vscode": {
   "interpreter": {
    "hash": "f5f82afb217fe8ec4580336f303a524ef34e065cefa766c5e766273708e5b00f"
   }
  }
 },
 "nbformat": 4,
 "nbformat_minor": 2
}
